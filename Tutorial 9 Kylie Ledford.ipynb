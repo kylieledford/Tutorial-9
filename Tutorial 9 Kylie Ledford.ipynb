{
 "cells": [
  {
   "cell_type": "code",
   "execution_count": 2,
   "metadata": {},
   "outputs": [],
   "source": [
    "import pandas as pd"
   ]
  },
  {
   "cell_type": "code",
   "execution_count": 3,
   "metadata": {},
   "outputs": [],
   "source": [
    "wichita = pd.read_csv(\"https://datajournalism.tech/wp-content/uploads/2019/10/wichita.csv\")"
   ]
  },
  {
   "cell_type": "code",
   "execution_count": 4,
   "metadata": {},
   "outputs": [],
   "source": [
    "four =wichita[wichita.subject_race != \"other/unknown\"]"
   ]
  },
  {
   "cell_type": "code",
   "execution_count": 5,
   "metadata": {},
   "outputs": [],
   "source": [
    "population = pd.DataFrame({\"subject_race\":[\"white\",\"black\",\"asian/pacific islander\",\"hispanic\"],\"num_people\":[246343,42679,19272,63659]}, \n",
    "columns = [\"subject_race\", \"num_people\"])"
   ]
  },
  {
   "cell_type": "code",
   "execution_count": 6,
   "metadata": {},
   "outputs": [],
   "source": [
    "stops = pd.merge(four,population, on=\"subject_race\")"
   ]
  },
  {
   "cell_type": "code",
   "execution_count": 7,
   "metadata": {},
   "outputs": [
    {
     "data": {
      "text/html": [
       "<div>\n",
       "<style scoped>\n",
       "    .dataframe tbody tr th:only-of-type {\n",
       "        vertical-align: middle;\n",
       "    }\n",
       "\n",
       "    .dataframe tbody tr th {\n",
       "        vertical-align: top;\n",
       "    }\n",
       "\n",
       "    .dataframe thead th {\n",
       "        text-align: right;\n",
       "    }\n",
       "</style>\n",
       "<table border=\"1\" class=\"dataframe\">\n",
       "  <thead>\n",
       "    <tr style=\"text-align: right;\">\n",
       "      <th></th>\n",
       "      <th>Unnamed: 0</th>\n",
       "      <th>raw_row_number</th>\n",
       "      <th>date</th>\n",
       "      <th>time</th>\n",
       "      <th>location</th>\n",
       "      <th>lat</th>\n",
       "      <th>lng</th>\n",
       "      <th>subject_age</th>\n",
       "      <th>subject_race</th>\n",
       "      <th>subject_sex</th>\n",
       "      <th>...</th>\n",
       "      <th>citation_issued</th>\n",
       "      <th>outcome</th>\n",
       "      <th>posted_speed</th>\n",
       "      <th>vehicle_color</th>\n",
       "      <th>vehicle_make</th>\n",
       "      <th>vehicle_model</th>\n",
       "      <th>vehicle_year</th>\n",
       "      <th>raw_defendant_race</th>\n",
       "      <th>raw_defendant_ethnicity</th>\n",
       "      <th>num_people</th>\n",
       "    </tr>\n",
       "  </thead>\n",
       "  <tbody>\n",
       "    <tr>\n",
       "      <th>0</th>\n",
       "      <td>1</td>\n",
       "      <td>923578</td>\n",
       "      <td>2016-01-01</td>\n",
       "      <td>18:00:00</td>\n",
       "      <td>N WEST ST, KS, 67205</td>\n",
       "      <td>37.741425</td>\n",
       "      <td>-97.389764</td>\n",
       "      <td>16.0</td>\n",
       "      <td>white</td>\n",
       "      <td>female</td>\n",
       "      <td>...</td>\n",
       "      <td>True</td>\n",
       "      <td>citation</td>\n",
       "      <td>NaN</td>\n",
       "      <td>BURGUNDY OR MAROON</td>\n",
       "      <td>JEEP (1989 TO PRESENT)</td>\n",
       "      <td>NaN</td>\n",
       "      <td>2008.0</td>\n",
       "      <td>W</td>\n",
       "      <td>N</td>\n",
       "      <td>246343</td>\n",
       "    </tr>\n",
       "    <tr>\n",
       "      <th>1</th>\n",
       "      <td>2</td>\n",
       "      <td>923657</td>\n",
       "      <td>2016-01-01</td>\n",
       "      <td>18:08:00</td>\n",
       "      <td>8000 W 13TH ST N, WICHITA, KS, 67212</td>\n",
       "      <td>37.708795</td>\n",
       "      <td>-97.440594</td>\n",
       "      <td>44.0</td>\n",
       "      <td>white</td>\n",
       "      <td>male</td>\n",
       "      <td>...</td>\n",
       "      <td>True</td>\n",
       "      <td>citation</td>\n",
       "      <td>40.0</td>\n",
       "      <td>\"ALUMINUM, SILVER\"</td>\n",
       "      <td>HYUNDAI</td>\n",
       "      <td>TUCSON</td>\n",
       "      <td>NaN</td>\n",
       "      <td>W</td>\n",
       "      <td>N</td>\n",
       "      <td>246343</td>\n",
       "    </tr>\n",
       "    <tr>\n",
       "      <th>2</th>\n",
       "      <td>3</td>\n",
       "      <td>912091</td>\n",
       "      <td>2016-01-01</td>\n",
       "      <td>18:11:00</td>\n",
       "      <td>500 S LIMUEL ST, WICHITA, KS, 67235</td>\n",
       "      <td>37.674821</td>\n",
       "      <td>-97.489990</td>\n",
       "      <td>20.0</td>\n",
       "      <td>white</td>\n",
       "      <td>male</td>\n",
       "      <td>...</td>\n",
       "      <td>True</td>\n",
       "      <td>citation</td>\n",
       "      <td>NaN</td>\n",
       "      <td>WHITE</td>\n",
       "      <td>HONDA</td>\n",
       "      <td>NaN</td>\n",
       "      <td>NaN</td>\n",
       "      <td>W</td>\n",
       "      <td>N</td>\n",
       "      <td>246343</td>\n",
       "    </tr>\n",
       "    <tr>\n",
       "      <th>3</th>\n",
       "      <td>6</td>\n",
       "      <td>923676</td>\n",
       "      <td>2016-01-01</td>\n",
       "      <td>18:44:00</td>\n",
       "      <td>7600 W 21ST ST N, WICHITA, KS, 67205</td>\n",
       "      <td>37.724018</td>\n",
       "      <td>-97.431369</td>\n",
       "      <td>27.0</td>\n",
       "      <td>white</td>\n",
       "      <td>male</td>\n",
       "      <td>...</td>\n",
       "      <td>True</td>\n",
       "      <td>citation</td>\n",
       "      <td>40.0</td>\n",
       "      <td>GRAY</td>\n",
       "      <td>DODGE</td>\n",
       "      <td>NEON</td>\n",
       "      <td>NaN</td>\n",
       "      <td>W</td>\n",
       "      <td>N</td>\n",
       "      <td>246343</td>\n",
       "    </tr>\n",
       "    <tr>\n",
       "      <th>4</th>\n",
       "      <td>12</td>\n",
       "      <td>923684</td>\n",
       "      <td>2016-01-01</td>\n",
       "      <td>22:45:00</td>\n",
       "      <td>W CENTRAL AVE, KS, 67203</td>\n",
       "      <td>37.694806</td>\n",
       "      <td>-97.370597</td>\n",
       "      <td>20.0</td>\n",
       "      <td>white</td>\n",
       "      <td>female</td>\n",
       "      <td>...</td>\n",
       "      <td>True</td>\n",
       "      <td>citation</td>\n",
       "      <td>NaN</td>\n",
       "      <td>GRAY</td>\n",
       "      <td>PONTIAC</td>\n",
       "      <td>GRAND PRIX</td>\n",
       "      <td>NaN</td>\n",
       "      <td>W</td>\n",
       "      <td>N</td>\n",
       "      <td>246343</td>\n",
       "    </tr>\n",
       "  </tbody>\n",
       "</table>\n",
       "<p>5 rows × 23 columns</p>\n",
       "</div>"
      ],
      "text/plain": [
       "   Unnamed: 0 raw_row_number        date      time  \\\n",
       "0           1         923578  2016-01-01  18:00:00   \n",
       "1           2         923657  2016-01-01  18:08:00   \n",
       "2           3         912091  2016-01-01  18:11:00   \n",
       "3           6         923676  2016-01-01  18:44:00   \n",
       "4          12         923684  2016-01-01  22:45:00   \n",
       "\n",
       "                               location        lat        lng  subject_age  \\\n",
       "0                  N WEST ST, KS, 67205  37.741425 -97.389764         16.0   \n",
       "1  8000 W 13TH ST N, WICHITA, KS, 67212  37.708795 -97.440594         44.0   \n",
       "2   500 S LIMUEL ST, WICHITA, KS, 67235  37.674821 -97.489990         20.0   \n",
       "3  7600 W 21ST ST N, WICHITA, KS, 67205  37.724018 -97.431369         27.0   \n",
       "4              W CENTRAL AVE, KS, 67203  37.694806 -97.370597         20.0   \n",
       "\n",
       "  subject_race subject_sex  ... citation_issued   outcome posted_speed  \\\n",
       "0        white      female  ...            True  citation          NaN   \n",
       "1        white        male  ...            True  citation         40.0   \n",
       "2        white        male  ...            True  citation          NaN   \n",
       "3        white        male  ...            True  citation         40.0   \n",
       "4        white      female  ...            True  citation          NaN   \n",
       "\n",
       "        vehicle_color            vehicle_make  vehicle_model vehicle_year  \\\n",
       "0  BURGUNDY OR MAROON  JEEP (1989 TO PRESENT)            NaN       2008.0   \n",
       "1  \"ALUMINUM, SILVER\"                 HYUNDAI         TUCSON          NaN   \n",
       "2               WHITE                   HONDA            NaN          NaN   \n",
       "3                GRAY                   DODGE           NEON          NaN   \n",
       "4                GRAY                 PONTIAC     GRAND PRIX          NaN   \n",
       "\n",
       "  raw_defendant_race raw_defendant_ethnicity  num_people  \n",
       "0                  W                       N      246343  \n",
       "1                  W                       N      246343  \n",
       "2                  W                       N      246343  \n",
       "3                  W                       N      246343  \n",
       "4                  W                       N      246343  \n",
       "\n",
       "[5 rows x 23 columns]"
      ]
     },
     "execution_count": 7,
     "metadata": {},
     "output_type": "execute_result"
    }
   ],
   "source": [
    "stops.head()"
   ]
  },
  {
   "cell_type": "code",
   "execution_count": 8,
   "metadata": {},
   "outputs": [],
   "source": [
    "race = four.subject_race.value_counts().reset_index()"
   ]
  },
  {
   "cell_type": "code",
   "execution_count": 9,
   "metadata": {},
   "outputs": [],
   "source": [
    "race = race.rename(columns={\"index\":\"subject_race\",\"subject_race\":\"count\"})"
   ]
  },
  {
   "cell_type": "code",
   "execution_count": 10,
   "metadata": {},
   "outputs": [],
   "source": [
    "stops = pd.merge(race,population, on=\"subject_race\")"
   ]
  },
  {
   "cell_type": "code",
   "execution_count": 11,
   "metadata": {},
   "outputs": [
    {
     "data": {
      "text/html": [
       "<div>\n",
       "<style scoped>\n",
       "    .dataframe tbody tr th:only-of-type {\n",
       "        vertical-align: middle;\n",
       "    }\n",
       "\n",
       "    .dataframe tbody tr th {\n",
       "        vertical-align: top;\n",
       "    }\n",
       "\n",
       "    .dataframe thead th {\n",
       "        text-align: right;\n",
       "    }\n",
       "</style>\n",
       "<table border=\"1\" class=\"dataframe\">\n",
       "  <thead>\n",
       "    <tr style=\"text-align: right;\">\n",
       "      <th></th>\n",
       "      <th>subject_race</th>\n",
       "      <th>count</th>\n",
       "      <th>num_people</th>\n",
       "    </tr>\n",
       "  </thead>\n",
       "  <tbody>\n",
       "    <tr>\n",
       "      <th>0</th>\n",
       "      <td>white</td>\n",
       "      <td>32061</td>\n",
       "      <td>246343</td>\n",
       "    </tr>\n",
       "    <tr>\n",
       "      <th>1</th>\n",
       "      <td>black</td>\n",
       "      <td>8038</td>\n",
       "      <td>42679</td>\n",
       "    </tr>\n",
       "    <tr>\n",
       "      <th>2</th>\n",
       "      <td>hispanic</td>\n",
       "      <td>6709</td>\n",
       "      <td>63659</td>\n",
       "    </tr>\n",
       "    <tr>\n",
       "      <th>3</th>\n",
       "      <td>asian/pacific islander</td>\n",
       "      <td>1607</td>\n",
       "      <td>19272</td>\n",
       "    </tr>\n",
       "  </tbody>\n",
       "</table>\n",
       "</div>"
      ],
      "text/plain": [
       "             subject_race  count  num_people\n",
       "0                   white  32061      246343\n",
       "1                   black   8038       42679\n",
       "2                hispanic   6709       63659\n",
       "3  asian/pacific islander   1607       19272"
      ]
     },
     "execution_count": 11,
     "metadata": {},
     "output_type": "execute_result"
    }
   ],
   "source": [
    "stops"
   ]
  },
  {
   "cell_type": "code",
   "execution_count": 12,
   "metadata": {},
   "outputs": [],
   "source": [
    "stops[\"stop_rate\"]=stops[\"count\"]/stops[\"num_people\"]"
   ]
  },
  {
   "cell_type": "code",
   "execution_count": 13,
   "metadata": {},
   "outputs": [
    {
     "data": {
      "text/html": [
       "<div>\n",
       "<style scoped>\n",
       "    .dataframe tbody tr th:only-of-type {\n",
       "        vertical-align: middle;\n",
       "    }\n",
       "\n",
       "    .dataframe tbody tr th {\n",
       "        vertical-align: top;\n",
       "    }\n",
       "\n",
       "    .dataframe thead th {\n",
       "        text-align: right;\n",
       "    }\n",
       "</style>\n",
       "<table border=\"1\" class=\"dataframe\">\n",
       "  <thead>\n",
       "    <tr style=\"text-align: right;\">\n",
       "      <th></th>\n",
       "      <th>subject_race</th>\n",
       "      <th>count</th>\n",
       "      <th>num_people</th>\n",
       "      <th>stop_rate</th>\n",
       "    </tr>\n",
       "  </thead>\n",
       "  <tbody>\n",
       "    <tr>\n",
       "      <th>0</th>\n",
       "      <td>white</td>\n",
       "      <td>32061</td>\n",
       "      <td>246343</td>\n",
       "      <td>0.130148</td>\n",
       "    </tr>\n",
       "    <tr>\n",
       "      <th>1</th>\n",
       "      <td>black</td>\n",
       "      <td>8038</td>\n",
       "      <td>42679</td>\n",
       "      <td>0.188336</td>\n",
       "    </tr>\n",
       "    <tr>\n",
       "      <th>2</th>\n",
       "      <td>hispanic</td>\n",
       "      <td>6709</td>\n",
       "      <td>63659</td>\n",
       "      <td>0.105390</td>\n",
       "    </tr>\n",
       "    <tr>\n",
       "      <th>3</th>\n",
       "      <td>asian/pacific islander</td>\n",
       "      <td>1607</td>\n",
       "      <td>19272</td>\n",
       "      <td>0.083385</td>\n",
       "    </tr>\n",
       "  </tbody>\n",
       "</table>\n",
       "</div>"
      ],
      "text/plain": [
       "             subject_race  count  num_people  stop_rate\n",
       "0                   white  32061      246343   0.130148\n",
       "1                   black   8038       42679   0.188336\n",
       "2                hispanic   6709       63659   0.105390\n",
       "3  asian/pacific islander   1607       19272   0.083385"
      ]
     },
     "execution_count": 13,
     "metadata": {},
     "output_type": "execute_result"
    }
   ],
   "source": [
    "stops"
   ]
  },
  {
   "cell_type": "code",
   "execution_count": 14,
   "metadata": {},
   "outputs": [],
   "source": [
    "%matplotlib inline"
   ]
  },
  {
   "cell_type": "code",
   "execution_count": 19,
   "metadata": {
    "scrolled": true
   },
   "outputs": [
    {
     "data": {
      "text/plain": [
       "[Text(0,0,'white'),\n",
       " Text(0,0,'black'),\n",
       " Text(0,0,'hispanic'),\n",
       " Text(0,0,'asian/pacific islander')]"
      ]
     },
     "execution_count": 19,
     "metadata": {},
     "output_type": "execute_result"
    },
    {
     "data": {
      "image/png": "[encoded data removed]",
      "text/plain": [
       "<Figure size 432x288 with 1 Axes>"
      ]
     },
     "metadata": {
      "needs_background": "light"
     },
     "output_type": "display_data"
    }
   ],
   "source": [
    "chart=stops.stop_rate.plot.barh()\n",
    "chart.set_yticklabels(stops.subject_race)"
   ]
  },
  {
   "cell_type": "code",
   "execution_count": 20,
   "metadata": {},
   "outputs": [],
   "source": [
    "stops.to_csv(\"stops.csv\")"
   ]
  },
  {
   "cell_type": "code",
   "execution_count": 21,
   "metadata": {},
   "outputs": [
    {
     "data": {
      "text/html": [
       "<div>\n",
       "<style scoped>\n",
       "    .dataframe tbody tr th:only-of-type {\n",
       "        vertical-align: middle;\n",
       "    }\n",
       "\n",
       "    .dataframe tbody tr th {\n",
       "        vertical-align: top;\n",
       "    }\n",
       "\n",
       "    .dataframe thead th {\n",
       "        text-align: right;\n",
       "    }\n",
       "</style>\n",
       "<table border=\"1\" class=\"dataframe\">\n",
       "  <thead>\n",
       "    <tr style=\"text-align: right;\">\n",
       "      <th></th>\n",
       "      <th>subject_race</th>\n",
       "      <th>stop_rate</th>\n",
       "    </tr>\n",
       "  </thead>\n",
       "  <tbody>\n",
       "    <tr>\n",
       "      <th>0</th>\n",
       "      <td>white</td>\n",
       "      <td>0.130148</td>\n",
       "    </tr>\n",
       "    <tr>\n",
       "      <th>1</th>\n",
       "      <td>black</td>\n",
       "      <td>0.188336</td>\n",
       "    </tr>\n",
       "    <tr>\n",
       "      <th>2</th>\n",
       "      <td>hispanic</td>\n",
       "      <td>0.105390</td>\n",
       "    </tr>\n",
       "    <tr>\n",
       "      <th>3</th>\n",
       "      <td>asian/pacific islander</td>\n",
       "      <td>0.083385</td>\n",
       "    </tr>\n",
       "  </tbody>\n",
       "</table>\n",
       "</div>"
      ],
      "text/plain": [
       "             subject_race  stop_rate\n",
       "0                   white   0.130148\n",
       "1                   black   0.188336\n",
       "2                hispanic   0.105390\n",
       "3  asian/pacific islander   0.083385"
      ]
     },
     "execution_count": 21,
     "metadata": {},
     "output_type": "execute_result"
    }
   ],
   "source": [
    "stops.drop([\"num_people\", \"count\"], axis=1)"
   ]
  },
  {
   "cell_type": "code",
   "execution_count": 23,
   "metadata": {},
   "outputs": [],
   "source": [
    "stops.to_csv(\"stops2.csv\")"
   ]
  },
  {
   "cell_type": "code",
   "execution_count": null,
   "metadata": {},
   "outputs": [],
   "source": []
  }
 ],
 "metadata": {
  "kernelspec": {
   "display_name": "Python 2",
   "language": "python",
   "name": "python2"
  },
  "language_info": {
   "codemirror_mode": {
    "name": "ipython",
    "version": 2
   },
   "file_extension": ".py",
   "mimetype": "text/x-python",
   "name": "python",
   "nbconvert_exporter": "python",
   "pygments_lexer": "ipython2",
   "version": "2.7.17"
  }
 },
 "nbformat": 4,
 "nbformat_minor": 2
}
